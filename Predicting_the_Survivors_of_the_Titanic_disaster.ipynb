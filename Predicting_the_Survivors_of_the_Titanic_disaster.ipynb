{
 "cells": [
  {
   "cell_type": "code",
   "execution_count": 119,
   "metadata": {},
   "outputs": [],
   "source": [
    "from warnings import simplefilter\n",
    "# ignore all future warnings\n",
    "simplefilter(action='ignore', category=FutureWarning)"
   ]
  },
  {
   "cell_type": "markdown",
   "metadata": {},
   "source": [
    "## Introduction to the Data\n",
    "\n",
    "In this Kaggle competition, we have a data set of different information about passengers onboard the Titanic, and I will use that information to predict whether those people survived or not. \n",
    "\n",
    "- The training set contains data we can use to train our model. It has a number of feature columns which contain various descriptive data, as well as a column of the target values we are trying to predict: in this case, Survival.\n",
    "\n",
    "- The testing set contains all of the same feature columns, but is missing the target value column. Additionally, the testing set usually has fewer observations (rows) than the training set.\n",
    "\n",
    "\n",
    "Once I have trained the model on the training set, I'll use that model to make predictions on the data from the testing set, and submit those predictions to Kaggle.\n"
   ]
  },
  {
   "cell_type": "markdown",
   "metadata": {},
   "source": [
    "In this project, I'll:\n",
    "\n",
    "- Prepare the data for machine learning\n",
    "- Train a model\n",
    "- Measure the accuracy of your model\n",
    "- Prepare and make a Kaggle submission."
   ]
  },
  {
   "cell_type": "code",
   "execution_count": 120,
   "metadata": {},
   "outputs": [
    {
     "name": "stdout",
     "output_type": "stream",
     "text": [
      "(418, 11)\n",
      "(891, 12)\n"
     ]
    }
   ],
   "source": [
    "import pandas as pd\n",
    "%matplotlib inline\n",
    "import matplotlib.pyplot as plt\n",
    "\n",
    "test = pd.read_csv(\"test.csv\")\n",
    "test_shape = test.shape\n",
    "train = pd.read_csv(\"trainp.csv\")\n",
    "train_shape = train.shape\n",
    "print(test_shape)\n",
    "print(train_shape)"
   ]
  },
  {
   "cell_type": "markdown",
   "metadata": {},
   "source": [
    "## Exploring the Data\n",
    "\n",
    "Here are the Data Dictionary for the dataset giving details about the datapoiints\n",
    "\n",
    "- PassengerID - A column added by Kaggle to identify each row and make submissions easier\n",
    "- Survived - Whether the passenger survived or not and the value we are predicting (0=No, 1=Yes)\n",
    "- Pclass - The class of the ticket the passenger purchased (1=1st, 2=2nd, 3=3rd)\n",
    "- Sex - The passenger's sex\n",
    "- Age - The passenger's age in years\n",
    "- SibSp - The number of siblings or spouses the passenger had aboard the Titanic\n",
    "- Parch - The number of parents or children the passenger had aboard the Titanic\n",
    "- Ticket - The passenger's ticket number\n",
    "- Fare - The fare the passenger paid\n",
    "- Cabin - The passenger's cabin number\n",
    "- Embarked - The port where the passenger embarked (C=Cherbourg, Q=Queenstown, S=Southampton)\n",
    "\n"
   ]
  },
  {
   "cell_type": "code",
   "execution_count": 121,
   "metadata": {
    "scrolled": false
   },
   "outputs": [
    {
     "data": {
      "text/html": [
       "<div>\n",
       "<style scoped>\n",
       "    .dataframe tbody tr th:only-of-type {\n",
       "        vertical-align: middle;\n",
       "    }\n",
       "\n",
       "    .dataframe tbody tr th {\n",
       "        vertical-align: top;\n",
       "    }\n",
       "\n",
       "    .dataframe thead th {\n",
       "        text-align: right;\n",
       "    }\n",
       "</style>\n",
       "<table border=\"1\" class=\"dataframe\">\n",
       "  <thead>\n",
       "    <tr style=\"text-align: right;\">\n",
       "      <th></th>\n",
       "      <th>PassengerId</th>\n",
       "      <th>Survived</th>\n",
       "      <th>Pclass</th>\n",
       "      <th>Name</th>\n",
       "      <th>Sex</th>\n",
       "      <th>Age</th>\n",
       "      <th>SibSp</th>\n",
       "      <th>Parch</th>\n",
       "      <th>Ticket</th>\n",
       "      <th>Fare</th>\n",
       "      <th>Cabin</th>\n",
       "      <th>Embarked</th>\n",
       "    </tr>\n",
       "  </thead>\n",
       "  <tbody>\n",
       "    <tr>\n",
       "      <th>0</th>\n",
       "      <td>1</td>\n",
       "      <td>0</td>\n",
       "      <td>3</td>\n",
       "      <td>Braund, Mr. Owen Harris</td>\n",
       "      <td>male</td>\n",
       "      <td>22.0</td>\n",
       "      <td>1</td>\n",
       "      <td>0</td>\n",
       "      <td>A/5 21171</td>\n",
       "      <td>7.2500</td>\n",
       "      <td>NaN</td>\n",
       "      <td>S</td>\n",
       "    </tr>\n",
       "    <tr>\n",
       "      <th>1</th>\n",
       "      <td>2</td>\n",
       "      <td>1</td>\n",
       "      <td>1</td>\n",
       "      <td>Cumings, Mrs. John Bradley (Florence Briggs Th...</td>\n",
       "      <td>female</td>\n",
       "      <td>38.0</td>\n",
       "      <td>1</td>\n",
       "      <td>0</td>\n",
       "      <td>PC 17599</td>\n",
       "      <td>71.2833</td>\n",
       "      <td>C85</td>\n",
       "      <td>C</td>\n",
       "    </tr>\n",
       "    <tr>\n",
       "      <th>2</th>\n",
       "      <td>3</td>\n",
       "      <td>1</td>\n",
       "      <td>3</td>\n",
       "      <td>Heikkinen, Miss. Laina</td>\n",
       "      <td>female</td>\n",
       "      <td>26.0</td>\n",
       "      <td>0</td>\n",
       "      <td>0</td>\n",
       "      <td>STON/O2. 3101282</td>\n",
       "      <td>7.9250</td>\n",
       "      <td>NaN</td>\n",
       "      <td>S</td>\n",
       "    </tr>\n",
       "    <tr>\n",
       "      <th>3</th>\n",
       "      <td>4</td>\n",
       "      <td>1</td>\n",
       "      <td>1</td>\n",
       "      <td>Futrelle, Mrs. Jacques Heath (Lily May Peel)</td>\n",
       "      <td>female</td>\n",
       "      <td>35.0</td>\n",
       "      <td>1</td>\n",
       "      <td>0</td>\n",
       "      <td>113803</td>\n",
       "      <td>53.1000</td>\n",
       "      <td>C123</td>\n",
       "      <td>S</td>\n",
       "    </tr>\n",
       "    <tr>\n",
       "      <th>4</th>\n",
       "      <td>5</td>\n",
       "      <td>0</td>\n",
       "      <td>3</td>\n",
       "      <td>Allen, Mr. William Henry</td>\n",
       "      <td>male</td>\n",
       "      <td>35.0</td>\n",
       "      <td>0</td>\n",
       "      <td>0</td>\n",
       "      <td>373450</td>\n",
       "      <td>8.0500</td>\n",
       "      <td>NaN</td>\n",
       "      <td>S</td>\n",
       "    </tr>\n",
       "  </tbody>\n",
       "</table>\n",
       "</div>"
      ],
      "text/plain": [
       "   PassengerId  Survived  Pclass  \\\n",
       "0            1         0       3   \n",
       "1            2         1       1   \n",
       "2            3         1       3   \n",
       "3            4         1       1   \n",
       "4            5         0       3   \n",
       "\n",
       "                                                Name     Sex   Age  SibSp  \\\n",
       "0                            Braund, Mr. Owen Harris    male  22.0      1   \n",
       "1  Cumings, Mrs. John Bradley (Florence Briggs Th...  female  38.0      1   \n",
       "2                             Heikkinen, Miss. Laina  female  26.0      0   \n",
       "3       Futrelle, Mrs. Jacques Heath (Lily May Peel)  female  35.0      1   \n",
       "4                           Allen, Mr. William Henry    male  35.0      0   \n",
       "\n",
       "   Parch            Ticket     Fare Cabin Embarked  \n",
       "0      0         A/5 21171   7.2500   NaN        S  \n",
       "1      0          PC 17599  71.2833   C85        C  \n",
       "2      0  STON/O2. 3101282   7.9250   NaN        S  \n",
       "3      0            113803  53.1000  C123        S  \n",
       "4      0            373450   8.0500   NaN        S  "
      ]
     },
     "execution_count": 121,
     "metadata": {},
     "output_type": "execute_result"
    }
   ],
   "source": [
    "train.head()"
   ]
  },
  {
   "cell_type": "markdown",
   "metadata": {},
   "source": [
    "The type of machine learning I'll be doing is called classification (that is logistic, in relative to regression), because when I make predictions we are classifying each passenger as survived or not. More specifically, we are performing binary classification, which means that there are only two different states we are classifying."
   ]
  },
  {
   "cell_type": "markdown",
   "metadata": {},
   "source": [
    "Using Domain Knowledge having watched the movie Titanic, I remember that women and children were given preference to lifeboats (as they were in real life). I also remember the vast class disparity of the passengers.\n",
    "\n",
    "This indicates that Age, Sex, and PClass may be good predictors of survival."
   ]
  },
  {
   "cell_type": "code",
   "execution_count": 122,
   "metadata": {
    "scrolled": true
   },
   "outputs": [
    {
     "data": {
      "image/png": "[encoded data removed]",
      "text/plain": [
       "<Figure size 432x288 with 1 Axes>"
      ]
     },
     "metadata": {
      "needs_background": "light"
     },
     "output_type": "display_data"
    }
   ],
   "source": [
    "sex_pivot = train.pivot_table(index=\"Sex\",values=\"Survived\")\n",
    "sex_pivot.plot.bar()\n",
    "plt.show()"
   ]
  },
  {
   "cell_type": "code",
   "execution_count": 123,
   "metadata": {
    "scrolled": true
   },
   "outputs": [
    {
     "data": {
      "image/png": "[encoded data removed]",
      "text/plain": [
       "<Figure size 432x288 with 1 Axes>"
      ]
     },
     "metadata": {
      "needs_background": "light"
     },
     "output_type": "display_data"
    }
   ],
   "source": [
    "Pclass_pivot = train.pivot_table(index=\"Pclass\",values=\"Survived\")\n",
    "Pclass_pivot.plot.bar()\n",
    "plt.show()"
   ]
  },
  {
   "cell_type": "markdown",
   "metadata": {},
   "source": [
    "## Feature Selection"
   ]
  },
  {
   "cell_type": "code",
   "execution_count": 124,
   "metadata": {},
   "outputs": [
    {
     "name": "stdout",
     "output_type": "stream",
     "text": [
      "<class 'pandas.core.frame.DataFrame'>\n",
      "RangeIndex: 891 entries, 0 to 890\n",
      "Data columns (total 12 columns):\n",
      "PassengerId    891 non-null int64\n",
      "Survived       891 non-null int64\n",
      "Pclass         891 non-null int64\n",
      "Name           891 non-null object\n",
      "Sex            891 non-null object\n",
      "Age            714 non-null float64\n",
      "SibSp          891 non-null int64\n",
      "Parch          891 non-null int64\n",
      "Ticket         891 non-null object\n",
      "Fare           891 non-null float64\n",
      "Cabin          204 non-null object\n",
      "Embarked       889 non-null object\n",
      "dtypes: float64(2), int64(5), object(5)\n",
      "memory usage: 83.6+ KB\n"
     ]
    }
   ],
   "source": [
    "train.info()"
   ]
  },
  {
   "cell_type": "code",
   "execution_count": 125,
   "metadata": {
    "scrolled": true
   },
   "outputs": [
    {
     "name": "stdout",
     "output_type": "stream",
     "text": [
      "891    0.112233\n",
      "293    0.112233\n",
      "304    0.112233\n",
      "303    0.112233\n",
      "302    0.112233\n",
      "301    0.112233\n",
      "300    0.112233\n",
      "299    0.112233\n",
      "298    0.112233\n",
      "297    0.112233\n",
      "296    0.112233\n",
      "295    0.112233\n",
      "294    0.112233\n",
      "292    0.112233\n",
      "306    0.112233\n",
      "291    0.112233\n",
      "290    0.112233\n",
      "289    0.112233\n",
      "288    0.112233\n",
      "287    0.112233\n",
      "286    0.112233\n",
      "285    0.112233\n",
      "284    0.112233\n",
      "283    0.112233\n",
      "282    0.112233\n",
      "281    0.112233\n",
      "305    0.112233\n",
      "307    0.112233\n",
      "279    0.112233\n",
      "321    0.112233\n",
      "         ...   \n",
      "561    0.112233\n",
      "560    0.112233\n",
      "584    0.112233\n",
      "585    0.112233\n",
      "586    0.112233\n",
      "587    0.112233\n",
      "610    0.112233\n",
      "609    0.112233\n",
      "608    0.112233\n",
      "607    0.112233\n",
      "606    0.112233\n",
      "605    0.112233\n",
      "604    0.112233\n",
      "603    0.112233\n",
      "602    0.112233\n",
      "601    0.112233\n",
      "600    0.112233\n",
      "599    0.112233\n",
      "598    0.112233\n",
      "597    0.112233\n",
      "596    0.112233\n",
      "595    0.112233\n",
      "594    0.112233\n",
      "593    0.112233\n",
      "592    0.112233\n",
      "591    0.112233\n",
      "590    0.112233\n",
      "589    0.112233\n",
      "588    0.112233\n",
      "1      0.112233\n",
      "Name: PassengerId, Length: 891, dtype: float64\n",
      "0    61.616162\n",
      "1    38.383838\n",
      "Name: Survived, dtype: float64\n",
      "3    55.106622\n",
      "1    24.242424\n",
      "2    20.650954\n",
      "Name: Pclass, dtype: float64\n",
      "Holverson, Mr. Alexander Oskar                      0.112233\n",
      "Minahan, Dr. William Edward                         0.112233\n",
      "Balkic, Mr. Cerin                                   0.112233\n",
      "Becker, Miss. Marion Louise                         0.112233\n",
      "McGowan, Miss. Anna \"Annie\"                         0.112233\n",
      "Warren, Mrs. Frank Manley (Anna Sophia Atkinson)    0.112233\n",
      "Milling, Mr. Jacob Christian                        0.112233\n",
      "Thorne, Mrs. Gertrude Maybelle                      0.112233\n",
      "Canavan, Miss. Mary                                 0.112233\n",
      "Stranden, Mr. Juho                                  0.112233\n",
      "Myhrman, Mr. Pehr Fabian Oliver Malkolm             0.112233\n",
      "Nilsson, Miss. Helmina Josefina                     0.112233\n",
      "Hassab, Mr. Hammad                                  0.112233\n",
      "Elias, Mr. Joseph Jr                                0.112233\n",
      "Brown, Mr. Thomas William Solomon                   0.112233\n",
      "Shelley, Mrs. William (Imanita Parrish Hall)        0.112233\n",
      "Giles, Mr. Frederick Edward                         0.112233\n",
      "Olsen, Mr. Karl Siegwart Andreas                    0.112233\n",
      "Elias, Mr. Dibo                                     0.112233\n",
      "Crosby, Miss. Harriet R                             0.112233\n",
      "Tobin, Mr. Roger                                    0.112233\n",
      "Quick, Mrs. Frederick Charles (Jane Richards)       0.112233\n",
      "Abbing, Mr. Anthony                                 0.112233\n",
      "Boulos, Mr. Hanna                                   0.112233\n",
      "Haas, Miss. Aloisia                                 0.112233\n",
      "Meo, Mr. Alfonzo                                    0.112233\n",
      "Bowen, Mr. David John \"Dai\"                         0.112233\n",
      "Flynn, Mr. John                                     0.112233\n",
      "Rood, Mr. Hugh Roscoe                               0.112233\n",
      "Osen, Mr. Olaf Elon                                 0.112233\n",
      "                                                      ...   \n",
      "de Messemaeker, Mrs. Guillaume Joseph (Emma)        0.112233\n",
      "Robins, Mrs. Alexander A (Grace Charity Laury)      0.112233\n",
      "Sjostedt, Mr. Ernst Adolf                           0.112233\n",
      "McCormack, Mr. Thomas Joseph                        0.112233\n",
      "Johnston, Miss. Catherine Helen \"Carrie\"            0.112233\n",
      "Goldsmith, Mr. Frank John                           0.112233\n",
      "Ostby, Mr. Engelhart Cornelius                      0.112233\n",
      "McCoy, Miss. Agnes                                  0.112233\n",
      "Hansen, Mr. Henrik Juul                             0.112233\n",
      "Bostandyeff, Mr. Guentcho                           0.112233\n",
      "Givard, Mr. Hans Kristensen                         0.112233\n",
      "Novel, Mr. Mansouer                                 0.112233\n",
      "Becker, Master. Richard F                           0.112233\n",
      "Roebling, Mr. Washington Augustus II                0.112233\n",
      "Bystrom, Mrs. (Karolina)                            0.112233\n",
      "Stead, Mr. William Thomas                           0.112233\n",
      "Gronnestad, Mr. Daniel Danielsen                    0.112233\n",
      "Leyson, Mr. Robert William Norman                   0.112233\n",
      "Ball, Mrs. (Ada E Hall)                             0.112233\n",
      "Leitch, Miss. Jessie Wills                          0.112233\n",
      "Rommetvedt, Mr. Knud Paust                          0.112233\n",
      "Trout, Mrs. William H (Jessie L)                    0.112233\n",
      "Slabenoff, Mr. Petco                                0.112233\n",
      "Bing, Mr. Lee                                       0.112233\n",
      "Andersen-Jensen, Miss. Carla Christine Nielsine     0.112233\n",
      "Meanwell, Miss. (Marion Ogden)                      0.112233\n",
      "Garfirth, Mr. John                                  0.112233\n",
      "Devaney, Miss. Margaret Delia                       0.112233\n",
      "Montvila, Rev. Juozas                               0.112233\n",
      "Barah, Mr. Hanna Assi                               0.112233\n",
      "Name: Name, Length: 891, dtype: float64\n",
      "male      64.758698\n",
      "female    35.241302\n",
      "Name: Sex, dtype: float64\n",
      "NaN      19.865320\n",
      "24.00     3.367003\n",
      "22.00     3.030303\n",
      "18.00     2.918070\n",
      "28.00     2.805836\n",
      "19.00     2.805836\n",
      "30.00     2.805836\n",
      "21.00     2.693603\n",
      "25.00     2.581369\n",
      "36.00     2.469136\n",
      "29.00     2.244669\n",
      "32.00     2.020202\n",
      "26.00     2.020202\n",
      "35.00     2.020202\n",
      "27.00     2.020202\n",
      "16.00     1.907969\n",
      "31.00     1.907969\n",
      "34.00     1.683502\n",
      "23.00     1.683502\n",
      "33.00     1.683502\n",
      "20.00     1.683502\n",
      "39.00     1.571268\n",
      "17.00     1.459035\n",
      "42.00     1.459035\n",
      "40.00     1.459035\n",
      "45.00     1.346801\n",
      "38.00     1.234568\n",
      "50.00     1.122334\n",
      "2.00      1.122334\n",
      "4.00      1.122334\n",
      "           ...    \n",
      "28.50     0.224467\n",
      "63.00     0.224467\n",
      "0.83      0.224467\n",
      "30.50     0.224467\n",
      "70.00     0.224467\n",
      "57.00     0.224467\n",
      "0.75      0.224467\n",
      "13.00     0.224467\n",
      "59.00     0.224467\n",
      "10.00     0.224467\n",
      "64.00     0.224467\n",
      "40.50     0.224467\n",
      "45.50     0.224467\n",
      "32.50     0.224467\n",
      "20.50     0.112233\n",
      "24.50     0.112233\n",
      "0.67      0.112233\n",
      "70.50     0.112233\n",
      "0.92      0.112233\n",
      "74.00     0.112233\n",
      "34.50     0.112233\n",
      "14.50     0.112233\n",
      "80.00     0.112233\n",
      "12.00     0.112233\n",
      "53.00     0.112233\n",
      "36.50     0.112233\n",
      "55.50     0.112233\n",
      "66.00     0.112233\n",
      "23.50     0.112233\n",
      "0.42      0.112233\n",
      "Name: Age, Length: 89, dtype: float64\n",
      "0    68.237935\n",
      "1    23.456790\n",
      "2     3.142536\n",
      "4     2.020202\n",
      "3     1.795735\n",
      "8     0.785634\n",
      "5     0.561167\n",
      "Name: SibSp, dtype: float64\n",
      "0    76.094276\n",
      "1    13.243547\n",
      "2     8.978676\n",
      "5     0.561167\n",
      "3     0.561167\n",
      "4     0.448934\n",
      "6     0.112233\n",
      "Name: Parch, dtype: float64\n",
      "1601                0.785634\n",
      "CA. 2343            0.785634\n",
      "347082              0.785634\n",
      "347088              0.673401\n",
      "CA 2144             0.673401\n",
      "3101295             0.673401\n",
      "382652              0.561167\n",
      "S.O.C. 14879        0.561167\n",
      "19950               0.448934\n",
      "LINE                0.448934\n",
      "113760              0.448934\n",
      "W./C. 6608          0.448934\n",
      "17421               0.448934\n",
      "4133                0.448934\n",
      "347077              0.448934\n",
      "349909              0.448934\n",
      "113781              0.448934\n",
      "2666                0.448934\n",
      "PC 17757            0.448934\n",
      "C.A. 31921          0.336700\n",
      "230080              0.336700\n",
      "29106               0.336700\n",
      "SC/Paris 2123       0.336700\n",
      "F.C.C. 13529        0.336700\n",
      "239853              0.336700\n",
      "248727              0.336700\n",
      "110152              0.336700\n",
      "PC 17760            0.336700\n",
      "PC 17755            0.336700\n",
      "345773              0.336700\n",
      "                      ...   \n",
      "348123              0.112233\n",
      "19988               0.112233\n",
      "29104               0.112233\n",
      "382649              0.112233\n",
      "250653              0.112233\n",
      "A./5. 2152          0.112233\n",
      "A/5. 10482          0.112233\n",
      "349214              0.112233\n",
      "367231              0.112233\n",
      "349219              0.112233\n",
      "243880              0.112233\n",
      "113794              0.112233\n",
      "370376              0.112233\n",
      "28425               0.112233\n",
      "19952               0.112233\n",
      "13568               0.112233\n",
      "7553                0.112233\n",
      "244310              0.112233\n",
      "CA. 2314            0.112233\n",
      "36865               0.112233\n",
      "2625                0.112233\n",
      "349218              0.112233\n",
      "330931              0.112233\n",
      "231945              0.112233\n",
      "29751               0.112233\n",
      "11753               0.112233\n",
      "STON/O2. 3101271    0.112233\n",
      "347743              0.112233\n",
      "347067              0.112233\n",
      "SC/PARIS 2146       0.112233\n",
      "Name: Ticket, Length: 681, dtype: float64\n",
      "8.0500      4.826038\n",
      "13.0000     4.713805\n",
      "7.8958      4.264871\n",
      "7.7500      3.815937\n",
      "26.0000     3.479237\n",
      "10.5000     2.693603\n",
      "7.9250      2.020202\n",
      "7.7750      1.795735\n",
      "26.5500     1.683502\n",
      "0.0000      1.683502\n",
      "7.2292      1.683502\n",
      "7.8542      1.459035\n",
      "8.6625      1.459035\n",
      "7.2500      1.459035\n",
      "7.2250      1.346801\n",
      "16.1000     1.010101\n",
      "9.5000      1.010101\n",
      "24.1500     0.897868\n",
      "15.5000     0.897868\n",
      "56.4958     0.785634\n",
      "52.0000     0.785634\n",
      "14.5000     0.785634\n",
      "14.4542     0.785634\n",
      "69.5500     0.785634\n",
      "7.0500      0.785634\n",
      "31.2750     0.785634\n",
      "46.9000     0.673401\n",
      "30.0000     0.673401\n",
      "7.7958      0.673401\n",
      "39.6875     0.673401\n",
      "              ...   \n",
      "7.1417      0.112233\n",
      "42.4000     0.112233\n",
      "211.5000    0.112233\n",
      "12.2750     0.112233\n",
      "61.1750     0.112233\n",
      "8.4333      0.112233\n",
      "51.4792     0.112233\n",
      "7.8875      0.112233\n",
      "8.6833      0.112233\n",
      "7.5208      0.112233\n",
      "34.6542     0.112233\n",
      "28.7125     0.112233\n",
      "25.5875     0.112233\n",
      "7.7292      0.112233\n",
      "12.2875     0.112233\n",
      "8.6542      0.112233\n",
      "8.7125      0.112233\n",
      "61.3792     0.112233\n",
      "6.9500      0.112233\n",
      "9.8417      0.112233\n",
      "8.3000      0.112233\n",
      "13.7917     0.112233\n",
      "9.4750      0.112233\n",
      "13.4167     0.112233\n",
      "26.3875     0.112233\n",
      "8.4583      0.112233\n",
      "9.8375      0.112233\n",
      "8.3625      0.112233\n",
      "14.1083     0.112233\n",
      "17.4000     0.112233\n",
      "Name: Fare, Length: 248, dtype: float64\n",
      "NaN                77.104377\n",
      "G6                  0.448934\n",
      "B96 B98             0.448934\n",
      "C23 C25 C27         0.448934\n",
      "D                   0.336700\n",
      "F2                  0.336700\n",
      "E101                0.336700\n",
      "C22 C26             0.336700\n",
      "F33                 0.336700\n",
      "B57 B59 B63 B66     0.224467\n",
      "E67                 0.224467\n",
      "B20                 0.224467\n",
      "B49                 0.224467\n",
      "D17                 0.224467\n",
      "C52                 0.224467\n",
      "C92                 0.224467\n",
      "C78                 0.224467\n",
      "C68                 0.224467\n",
      "C93                 0.224467\n",
      "B18                 0.224467\n",
      "E24                 0.224467\n",
      "D33                 0.224467\n",
      "B28                 0.224467\n",
      "D36                 0.224467\n",
      "E8                  0.224467\n",
      "D26                 0.224467\n",
      "E44                 0.224467\n",
      "B51 B53 B55         0.224467\n",
      "E25                 0.224467\n",
      "F4                  0.224467\n",
      "                     ...    \n",
      "C111                0.112233\n",
      "C70                 0.112233\n",
      "A24                 0.112233\n",
      "E50                 0.112233\n",
      "C104                0.112233\n",
      "B86                 0.112233\n",
      "A6                  0.112233\n",
      "A36                 0.112233\n",
      "B4                  0.112233\n",
      "B101                0.112233\n",
      "B71                 0.112233\n",
      "A31                 0.112233\n",
      "D6                  0.112233\n",
      "D10 D12             0.112233\n",
      "D49                 0.112233\n",
      "E77                 0.112233\n",
      "E17                 0.112233\n",
      "A14                 0.112233\n",
      "A32                 0.112233\n",
      "B41                 0.112233\n",
      "C110                0.112233\n",
      "D48                 0.112233\n",
      "C7                  0.112233\n",
      "C82                 0.112233\n",
      "A7                  0.112233\n",
      "C30                 0.112233\n",
      "C85                 0.112233\n",
      "C99                 0.112233\n",
      "D19                 0.112233\n",
      "T                   0.112233\n",
      "Name: Cabin, Length: 148, dtype: float64\n",
      "S      72.278339\n",
      "C      18.855219\n",
      "Q       8.641975\n",
      "NaN     0.224467\n",
      "Name: Embarked, dtype: float64\n"
     ]
    }
   ],
   "source": [
    "for i in train.columns:\n",
    "\n",
    "    print(train[i].value_counts(normalize=True, dropna=False) * 100)"
   ]
  },
  {
   "cell_type": "code",
   "execution_count": 126,
   "metadata": {},
   "outputs": [],
   "source": [
    "train_features = train.drop([\"PassengerId\", \"Survived\"], axis=1)"
   ]
  },
  {
   "cell_type": "code",
   "execution_count": 127,
   "metadata": {},
   "outputs": [],
   "source": [
    "test_features = test.drop([\"PassengerId\"], axis=1)"
   ]
  },
  {
   "cell_type": "markdown",
   "metadata": {},
   "source": [
    "## Finding missing NaN values"
   ]
  },
  {
   "cell_type": "code",
   "execution_count": 128,
   "metadata": {},
   "outputs": [
    {
     "data": {
      "text/plain": [
       "Pclass        0\n",
       "Name          0\n",
       "Sex           0\n",
       "Age         177\n",
       "SibSp         0\n",
       "Parch         0\n",
       "Ticket        0\n",
       "Fare          0\n",
       "Cabin       687\n",
       "Embarked      2\n",
       "dtype: int64"
      ]
     },
     "execution_count": 128,
     "metadata": {},
     "output_type": "execute_result"
    }
   ],
   "source": [
    "train_features.isnull().sum()"
   ]
  },
  {
   "cell_type": "code",
   "execution_count": 129,
   "metadata": {
    "scrolled": true
   },
   "outputs": [
    {
     "data": {
      "text/plain": [
       "Pclass        0\n",
       "Name          0\n",
       "Sex           0\n",
       "Age          86\n",
       "SibSp         0\n",
       "Parch         0\n",
       "Ticket        0\n",
       "Fare          1\n",
       "Cabin       327\n",
       "Embarked      0\n",
       "dtype: int64"
      ]
     },
     "execution_count": 129,
     "metadata": {},
     "output_type": "execute_result"
    }
   ],
   "source": [
    "test_features.isnull().sum()"
   ]
  },
  {
   "cell_type": "code",
   "execution_count": 130,
   "metadata": {},
   "outputs": [],
   "source": [
    "train_features[\"Age\"] = train_features[\"Age\"].fillna(-0.5)\n",
    "test_features[\"Age\"] = test_features[\"Age\"].fillna(-0.5)"
   ]
  },
  {
   "cell_type": "code",
   "execution_count": 131,
   "metadata": {},
   "outputs": [],
   "source": [
    "test_features[\"Fare\"] = test_features[\"Fare\"].fillna(test_features[\"Fare\"].mean())\n",
    "\n",
    "\n",
    "train_features[\"Embarked\"] = train_features[\"Embarked\"].fillna(\"S\")\n"
   ]
  },
  {
   "cell_type": "code",
   "execution_count": 132,
   "metadata": {
    "scrolled": true
   },
   "outputs": [
    {
     "data": {
      "text/plain": [
       "Pclass      418\n",
       "Name        418\n",
       "Sex         418\n",
       "Age         418\n",
       "SibSp       418\n",
       "Parch       418\n",
       "Ticket      418\n",
       "Fare        418\n",
       "Cabin        91\n",
       "Embarked    418\n",
       "dtype: int64"
      ]
     },
     "execution_count": 132,
     "metadata": {},
     "output_type": "execute_result"
    }
   ],
   "source": [
    "test_features.notnull().sum()"
   ]
  },
  {
   "cell_type": "code",
   "execution_count": 133,
   "metadata": {
    "scrolled": true
   },
   "outputs": [
    {
     "data": {
      "text/plain": [
       "Pclass      891\n",
       "Name        891\n",
       "Sex         891\n",
       "Age         891\n",
       "SibSp       891\n",
       "Parch       891\n",
       "Ticket      891\n",
       "Fare        891\n",
       "Cabin       204\n",
       "Embarked    891\n",
       "dtype: int64"
      ]
     },
     "execution_count": 133,
     "metadata": {},
     "output_type": "execute_result"
    }
   ],
   "source": [
    "train_features.notnull().sum()"
   ]
  },
  {
   "cell_type": "markdown",
   "metadata": {},
   "source": [
    "## Engineering More Features"
   ]
  },
  {
   "cell_type": "code",
   "execution_count": 134,
   "metadata": {},
   "outputs": [
    {
     "name": "stdout",
     "output_type": "stream",
     "text": [
      "            Pclass                            Name   Sex         Age  \\\n",
      "count   891.000000                             891   891  891.000000   \n",
      "unique         NaN                             891     2         NaN   \n",
      "top            NaN  Holverson, Mr. Alexander Oskar  male         NaN   \n",
      "freq           NaN                               1   577         NaN   \n",
      "mean      2.308642                             NaN   NaN   23.699966   \n",
      "std       0.836071                             NaN   NaN   17.731181   \n",
      "min       1.000000                             NaN   NaN   -0.500000   \n",
      "50%       3.000000                             NaN   NaN   24.000000   \n",
      "max       3.000000                             NaN   NaN   80.000000   \n",
      "\n",
      "             SibSp       Parch Ticket        Fare        Cabin Embarked  \n",
      "count   891.000000  891.000000    891  891.000000          204      891  \n",
      "unique         NaN         NaN    681         NaN          147        3  \n",
      "top            NaN         NaN   1601         NaN  C23 C25 C27        S  \n",
      "freq           NaN         NaN      7         NaN            4      646  \n",
      "mean      0.523008    0.381594    NaN   32.204208          NaN      NaN  \n",
      "std       1.102743    0.806057    NaN   49.693429          NaN      NaN  \n",
      "min       0.000000    0.000000    NaN    0.000000          NaN      NaN  \n",
      "50%       0.000000    0.000000    NaN   14.454200          NaN      NaN  \n",
      "max       8.000000    6.000000    NaN  512.329200          NaN      NaN  \n"
     ]
    }
   ],
   "source": [
    "\n",
    "print(train_features.describe(include='all',percentiles=[]))"
   ]
  },
  {
   "cell_type": "code",
   "execution_count": 135,
   "metadata": {},
   "outputs": [
    {
     "name": "stdout",
     "output_type": "stream",
     "text": [
      "<class 'pandas.core.frame.DataFrame'>\n",
      "RangeIndex: 891 entries, 0 to 890\n",
      "Data columns (total 10 columns):\n",
      "Pclass      891 non-null int64\n",
      "Name        891 non-null object\n",
      "Sex         891 non-null object\n",
      "Age         891 non-null float64\n",
      "SibSp       891 non-null int64\n",
      "Parch       891 non-null int64\n",
      "Ticket      891 non-null object\n",
      "Fare        891 non-null float64\n",
      "Cabin       204 non-null object\n",
      "Embarked    891 non-null object\n",
      "dtypes: float64(2), int64(3), object(5)\n",
      "memory usage: 69.7+ KB\n"
     ]
    }
   ],
   "source": [
    "train_features.info()"
   ]
  },
  {
   "cell_type": "code",
   "execution_count": 136,
   "metadata": {},
   "outputs": [],
   "source": [
    "titles = {\n",
    "    \"Mr\" :         \"Mr\",\n",
    "    \"Mme\":         \"Mrs\",\n",
    "    \"Ms\":          \"Mrs\",\n",
    "    \"Mrs\" :        \"Mrs\",\n",
    "    \"Master\" :     \"Master\",\n",
    "    \"Mlle\":        \"Miss\",\n",
    "    \"Miss\" :       \"Miss\",\n",
    "    \"Capt\":        \"Officer\",\n",
    "    \"Col\":         \"Officer\",\n",
    "    \"Major\":       \"Officer\",\n",
    "    \"Dr\":          \"Officer\",\n",
    "    \"Rev\":         \"Officer\",\n",
    "    \"Jonkheer\":    \"Royalty\",\n",
    "    \"Don\":         \"Royalty\",\n",
    "    \"Sir\" :        \"Royalty\",\n",
    "    \"Countess\":    \"Royalty\",\n",
    "    \"Dona\":        \"Royalty\",\n",
    "    \"Lady\" :       \"Royalty\"\n",
    "}\n",
    "\n",
    "extracted_titles = train_features[\"Name\"].str.extract(' ([A-Za-z]+)\\.',expand=False)\n",
    "train_features[\"Title\"] = extracted_titles.map(titles)\n",
    "extracted_titles = test_features[\"Name\"].str.extract(' ([A-Za-z]+)\\.',expand=False)\n",
    "test_features[\"Title\"] = extracted_titles.map(titles)\n",
    "\n",
    " \n",
    "train_features[\"Cabin_type\"] = train_features[\"Cabin\"].str[0]\n",
    "train_features[\"Cabin_type\"] = train_features[\"Cabin_type\"].fillna(\"Unknown\")\n",
    "test_features[\"Cabin_type\"] = test_features[\"Cabin\"].str[0]\n",
    "test_features[\"Cabin_type\"] = test_features[\"Cabin_type\"].fillna(\"Unknown\")"
   ]
  },
  {
   "cell_type": "code",
   "execution_count": 137,
   "metadata": {},
   "outputs": [],
   "source": [
    "def process_age(df):\n",
    "    cut_points = [-1,0,5,12,18,35,60,100]\n",
    "    label_names = [\"Missing\",\"Infant\",\"Child\",\"Teenager\",\"Young Adult\",\"Adult\",\"Senior\"]\n",
    "    df[\"Age_categories\"] = pd.cut(df[\"Age\"],cut_points,labels=label_names)\n",
    "    return df\n",
    "\n",
    "def create_dummies(df,column_name):\n",
    "    dummies = pd.get_dummies(df[column_name],prefix=column_name)\n",
    "    df = pd.concat([df,dummies],axis=1)\n",
    "    return df\n",
    "\n",
    "def process_fare(df,cut_points,label_names):\n",
    "    df[\"Fare_categories\"] = pd.cut(df[\"Fare\"],cut_points_1,labels=label_names_1)\n",
    "    return df\n",
    "\n",
    "cut_points_1 = [0,12,50,100,1000]\n",
    "label_names_1 = [\"0-12\",\"12-50\",\"50-100\",\"100+\"]\n",
    "\n",
    "train_features = process_fare(train_features,cut_points_1,label_names_1)\n",
    "test_features = process_fare(test_features,cut_points_1,label_names_1)\n",
    "\n",
    "train_features = process_age(train_features)\n",
    "test_features = process_age(test_features)\n",
    "\n",
    "for column in [\"Age_categories\",\"Pclass\",\"Sex\", \"Embarked\",\"Fare_categories\",\"Title\",\"Cabin_type\"]:\n",
    "    train_features = create_dummies(train_features,column)\n",
    "    test_features = create_dummies( test_features,column)\n",
    "\n"
   ]
  },
  {
   "cell_type": "code",
   "execution_count": 138,
   "metadata": {},
   "outputs": [
    {
     "name": "stdout",
     "output_type": "stream",
     "text": [
      "Index(['Pclass', 'Name', 'Sex', 'Age', 'SibSp', 'Parch', 'Ticket', 'Fare',\n",
      "       'Cabin', 'Embarked', 'Title', 'Cabin_type', 'Fare_categories',\n",
      "       'Age_categories', 'Age_categories_Missing', 'Age_categories_Infant',\n",
      "       'Age_categories_Child', 'Age_categories_Teenager',\n",
      "       'Age_categories_Young Adult', 'Age_categories_Adult',\n",
      "       'Age_categories_Senior', 'Pclass_1', 'Pclass_2', 'Pclass_3',\n",
      "       'Sex_female', 'Sex_male', 'Embarked_C', 'Embarked_Q', 'Embarked_S',\n",
      "       'Fare_categories_0-12', 'Fare_categories_12-50',\n",
      "       'Fare_categories_50-100', 'Fare_categories_100+', 'Title_Master',\n",
      "       'Title_Miss', 'Title_Mr', 'Title_Mrs', 'Title_Officer', 'Title_Royalty',\n",
      "       'Cabin_type_A', 'Cabin_type_B', 'Cabin_type_C', 'Cabin_type_D',\n",
      "       'Cabin_type_E', 'Cabin_type_F', 'Cabin_type_G', 'Cabin_type_T',\n",
      "       'Cabin_type_Unknown'],\n",
      "      dtype='object')\n",
      "Index(['Pclass', 'Name', 'Sex', 'Age', 'SibSp', 'Parch', 'Ticket', 'Fare',\n",
      "       'Cabin', 'Embarked', 'Title', 'Cabin_type', 'Fare_categories',\n",
      "       'Age_categories', 'Age_categories_Missing', 'Age_categories_Infant',\n",
      "       'Age_categories_Child', 'Age_categories_Teenager',\n",
      "       'Age_categories_Young Adult', 'Age_categories_Adult',\n",
      "       'Age_categories_Senior', 'Pclass_1', 'Pclass_2', 'Pclass_3',\n",
      "       'Sex_female', 'Sex_male', 'Embarked_C', 'Embarked_Q', 'Embarked_S',\n",
      "       'Fare_categories_0-12', 'Fare_categories_12-50',\n",
      "       'Fare_categories_50-100', 'Fare_categories_100+', 'Title_Master',\n",
      "       'Title_Miss', 'Title_Mr', 'Title_Mrs', 'Title_Officer', 'Title_Royalty',\n",
      "       'Cabin_type_A', 'Cabin_type_B', 'Cabin_type_C', 'Cabin_type_D',\n",
      "       'Cabin_type_E', 'Cabin_type_F', 'Cabin_type_G', 'Cabin_type_Unknown'],\n",
      "      dtype='object')\n"
     ]
    }
   ],
   "source": [
    "print(train_features.columns)\n",
    "print(test_features.columns)"
   ]
  },
  {
   "cell_type": "code",
   "execution_count": 139,
   "metadata": {},
   "outputs": [],
   "source": [
    "cols = [\"Age_categories\",\"Pclass\",\"Sex\", \"Embarked\", \"Fare_categories\",\"Title\",\"Cabin_type\"] \n",
    "test_features =  test_features.drop(cols, axis=1)\n",
    "train_features =  train_features.drop(cols, axis=1)"
   ]
  },
  {
   "cell_type": "code",
   "execution_count": 140,
   "metadata": {
    "scrolled": true
   },
   "outputs": [
    {
     "name": "stdout",
     "output_type": "stream",
     "text": [
      "Index(['Name', 'Age', 'SibSp', 'Parch', 'Ticket', 'Fare', 'Cabin',\n",
      "       'Age_categories_Missing', 'Age_categories_Infant',\n",
      "       'Age_categories_Child', 'Age_categories_Teenager',\n",
      "       'Age_categories_Young Adult', 'Age_categories_Adult',\n",
      "       'Age_categories_Senior', 'Pclass_1', 'Pclass_2', 'Pclass_3',\n",
      "       'Sex_female', 'Sex_male', 'Embarked_C', 'Embarked_Q', 'Embarked_S',\n",
      "       'Fare_categories_0-12', 'Fare_categories_12-50',\n",
      "       'Fare_categories_50-100', 'Fare_categories_100+', 'Title_Master',\n",
      "       'Title_Miss', 'Title_Mr', 'Title_Mrs', 'Title_Officer', 'Title_Royalty',\n",
      "       'Cabin_type_A', 'Cabin_type_B', 'Cabin_type_C', 'Cabin_type_D',\n",
      "       'Cabin_type_E', 'Cabin_type_F', 'Cabin_type_G', 'Cabin_type_T',\n",
      "       'Cabin_type_Unknown'],\n",
      "      dtype='object')\n",
      "Index(['Name', 'Age', 'SibSp', 'Parch', 'Ticket', 'Fare', 'Cabin',\n",
      "       'Age_categories_Missing', 'Age_categories_Infant',\n",
      "       'Age_categories_Child', 'Age_categories_Teenager',\n",
      "       'Age_categories_Young Adult', 'Age_categories_Adult',\n",
      "       'Age_categories_Senior', 'Pclass_1', 'Pclass_2', 'Pclass_3',\n",
      "       'Sex_female', 'Sex_male', 'Embarked_C', 'Embarked_Q', 'Embarked_S',\n",
      "       'Fare_categories_0-12', 'Fare_categories_12-50',\n",
      "       'Fare_categories_50-100', 'Fare_categories_100+', 'Title_Master',\n",
      "       'Title_Miss', 'Title_Mr', 'Title_Mrs', 'Title_Officer', 'Title_Royalty',\n",
      "       'Cabin_type_A', 'Cabin_type_B', 'Cabin_type_C', 'Cabin_type_D',\n",
      "       'Cabin_type_E', 'Cabin_type_F', 'Cabin_type_G', 'Cabin_type_Unknown'],\n",
      "      dtype='object')\n"
     ]
    }
   ],
   "source": [
    "print(train_features.columns)\n",
    "print(test_features.columns)"
   ]
  },
  {
   "cell_type": "markdown",
   "metadata": {},
   "source": [
    "## Rescaling"
   ]
  },
  {
   "cell_type": "code",
   "execution_count": 141,
   "metadata": {},
   "outputs": [],
   "source": [
    "from sklearn.preprocessing import minmax_scale\n",
    "rescaling_columns = [\"SibSp\",\"Parch\"]\n",
    "for col in rescaling_columns:\n",
    "    train_features[col + \"_scaled\"] = minmax_scale(train_features[col])\n",
    "    test_features[col + \"_scaled\"] = minmax_scale(test_features[col])"
   ]
  },
  {
   "cell_type": "code",
   "execution_count": 142,
   "metadata": {},
   "outputs": [
    {
     "name": "stdout",
     "output_type": "stream",
     "text": [
      "Index(['Name', 'Age', 'SibSp', 'Parch', 'Ticket', 'Fare', 'Cabin',\n",
      "       'Age_categories_Missing', 'Age_categories_Infant',\n",
      "       'Age_categories_Child', 'Age_categories_Teenager',\n",
      "       'Age_categories_Young Adult', 'Age_categories_Adult',\n",
      "       'Age_categories_Senior', 'Pclass_1', 'Pclass_2', 'Pclass_3',\n",
      "       'Sex_female', 'Sex_male', 'Embarked_C', 'Embarked_Q', 'Embarked_S',\n",
      "       'Fare_categories_0-12', 'Fare_categories_12-50',\n",
      "       'Fare_categories_50-100', 'Fare_categories_100+', 'Title_Master',\n",
      "       'Title_Miss', 'Title_Mr', 'Title_Mrs', 'Title_Officer', 'Title_Royalty',\n",
      "       'Cabin_type_A', 'Cabin_type_B', 'Cabin_type_C', 'Cabin_type_D',\n",
      "       'Cabin_type_E', 'Cabin_type_F', 'Cabin_type_G', 'Cabin_type_T',\n",
      "       'Cabin_type_Unknown', 'SibSp_scaled', 'Parch_scaled'],\n",
      "      dtype='object')\n",
      "Index(['Name', 'Age', 'SibSp', 'Parch', 'Ticket', 'Fare', 'Cabin',\n",
      "       'Age_categories_Missing', 'Age_categories_Infant',\n",
      "       'Age_categories_Child', 'Age_categories_Teenager',\n",
      "       'Age_categories_Young Adult', 'Age_categories_Adult',\n",
      "       'Age_categories_Senior', 'Pclass_1', 'Pclass_2', 'Pclass_3',\n",
      "       'Sex_female', 'Sex_male', 'Embarked_C', 'Embarked_Q', 'Embarked_S',\n",
      "       'Fare_categories_0-12', 'Fare_categories_12-50',\n",
      "       'Fare_categories_50-100', 'Fare_categories_100+', 'Title_Master',\n",
      "       'Title_Miss', 'Title_Mr', 'Title_Mrs', 'Title_Officer', 'Title_Royalty',\n",
      "       'Cabin_type_A', 'Cabin_type_B', 'Cabin_type_C', 'Cabin_type_D',\n",
      "       'Cabin_type_E', 'Cabin_type_F', 'Cabin_type_G', 'Cabin_type_Unknown',\n",
      "       'SibSp_scaled', 'Parch_scaled'],\n",
      "      dtype='object')\n"
     ]
    }
   ],
   "source": [
    "print(train_features.columns)\n",
    "print(test_features.columns)"
   ]
  },
  {
   "cell_type": "code",
   "execution_count": 143,
   "metadata": {},
   "outputs": [],
   "source": [
    "train_features = train_features.drop([\"Ticket\",'SibSp', 'Parch'], axis=1)\n",
    "test_features = test_features.drop([\"Ticket\",'SibSp', 'Parch'], axis=1)"
   ]
  },
  {
   "cell_type": "code",
   "execution_count": 144,
   "metadata": {},
   "outputs": [],
   "source": [
    "train_features = train_features.drop(['Name', 'Age', 'Fare', 'Cabin'], axis=1)\n",
    "test_features = test_features.drop(['Name', 'Age', 'Fare', 'Cabin'], axis=1)\n"
   ]
  },
  {
   "cell_type": "markdown",
   "metadata": {},
   "source": [
    "## Finding the most Relevant Features"
   ]
  },
  {
   "cell_type": "code",
   "execution_count": 145,
   "metadata": {},
   "outputs": [
    {
     "name": "stdout",
     "output_type": "stream",
     "text": [
      "Index(['Age_categories_Missing', 'Age_categories_Infant',\n",
      "       'Age_categories_Child', 'Age_categories_Teenager',\n",
      "       'Age_categories_Young Adult', 'Age_categories_Adult',\n",
      "       'Age_categories_Senior', 'Pclass_1', 'Pclass_2', 'Pclass_3',\n",
      "       'Sex_female', 'Sex_male', 'Embarked_C', 'Embarked_Q', 'Embarked_S',\n",
      "       'Fare_categories_0-12', 'Fare_categories_12-50',\n",
      "       'Fare_categories_50-100', 'Fare_categories_100+', 'Title_Master',\n",
      "       'Title_Miss', 'Title_Mr', 'Title_Mrs', 'Title_Officer', 'Title_Royalty',\n",
      "       'Cabin_type_A', 'Cabin_type_B', 'Cabin_type_C', 'Cabin_type_D',\n",
      "       'Cabin_type_E', 'Cabin_type_F', 'Cabin_type_G', 'Cabin_type_T',\n",
      "       'Cabin_type_Unknown', 'SibSp_scaled', 'Parch_scaled'],\n",
      "      dtype='object')\n",
      "Index(['Age_categories_Missing', 'Age_categories_Infant',\n",
      "       'Age_categories_Child', 'Age_categories_Teenager',\n",
      "       'Age_categories_Young Adult', 'Age_categories_Adult',\n",
      "       'Age_categories_Senior', 'Pclass_1', 'Pclass_2', 'Pclass_3',\n",
      "       'Sex_female', 'Sex_male', 'Embarked_C', 'Embarked_Q', 'Embarked_S',\n",
      "       'Fare_categories_0-12', 'Fare_categories_12-50',\n",
      "       'Fare_categories_50-100', 'Fare_categories_100+', 'Title_Master',\n",
      "       'Title_Miss', 'Title_Mr', 'Title_Mrs', 'Title_Officer', 'Title_Royalty',\n",
      "       'Cabin_type_A', 'Cabin_type_B', 'Cabin_type_C', 'Cabin_type_D',\n",
      "       'Cabin_type_E', 'Cabin_type_F', 'Cabin_type_G', 'Cabin_type_Unknown',\n",
      "       'SibSp_scaled', 'Parch_scaled'],\n",
      "      dtype='object')\n"
     ]
    }
   ],
   "source": [
    "print(train_features.columns)\n",
    "print(test_features.columns)"
   ]
  },
  {
   "cell_type": "code",
   "execution_count": 146,
   "metadata": {
    "scrolled": true
   },
   "outputs": [
    {
     "data": {
      "image/png": "[encoded data removed]",
      "text/plain": [
       "<Figure size 792x648 with 2 Axes>"
      ]
     },
     "metadata": {},
     "output_type": "display_data"
    }
   ],
   "source": [
    "import numpy as np\n",
    "import seaborn as sns\n",
    "\n",
    "def plot_correlation_heatmap(df):\n",
    "    corr = df.corr()\n",
    "    \n",
    "    sns.set(style=\"white\")\n",
    "    mask = np.zeros_like(corr, dtype=np.bool)\n",
    "    mask[np.triu_indices_from(mask)] = True\n",
    "\n",
    "    f, ax = plt.subplots(figsize=(11, 9))\n",
    "    cmap = sns.diverging_palette(220, 10, as_cmap=True)\n",
    "\n",
    "\n",
    "    sns.heatmap(corr, mask=mask, cmap=cmap, vmax=1, center=0,\n",
    "            square=True, linewidths=.6, cbar_kws={\"shrink\": .7})\n",
    "    plt.show()\n",
    "\n",
    "columns = ['Age_categories_Missing', 'Age_categories_Infant',\n",
    "       'Age_categories_Child', 'Age_categories_Teenager',\n",
    "       'Age_categories_Young Adult', 'Age_categories_Adult',\n",
    "       'Age_categories_Senior', 'Pclass_1', 'Pclass_2', 'Pclass_3',\n",
    "       'Sex_female', 'Sex_male', 'Embarked_C', 'Embarked_Q', 'Embarked_S',\n",
    "       'Fare_categories_0-12', 'Fare_categories_12-50',\n",
    "       'Fare_categories_50-100', 'Fare_categories_100+', 'Title_Master',\n",
    "       'Title_Miss', 'Title_Mr', 'Title_Mrs', 'Title_Officer', 'Title_Royalty',\n",
    "       'Cabin_type_A', 'Cabin_type_B', 'Cabin_type_C', 'Cabin_type_D',\n",
    "       'Cabin_type_E', 'Cabin_type_F', 'Cabin_type_G', 'Cabin_type_T',\n",
    "       'Cabin_type_Unknown', 'SibSp_scaled', 'Parch_scaled']\n",
    "plot_correlation_heatmap(train_features[columns])"
   ]
  },
  {
   "cell_type": "markdown",
   "metadata": {},
   "source": [
    "## Final Feature Selection using RFECV\n",
    "\n",
    "I'll use Logistic Regression to train the model as earlier stated"
   ]
  },
  {
   "cell_type": "code",
   "execution_count": 147,
   "metadata": {},
   "outputs": [],
   "source": [
    "from sklearn.feature_selection import RFECV\n",
    "from sklearn.linear_model import LogisticRegression\n",
    "\n",
    "columns = ['Age_categories_Missing', 'Age_categories_Infant',\n",
    "       'Age_categories_Child', 'Age_categories_Young Adult',\n",
    "       'Age_categories_Adult', 'Age_categories_Senior', 'Pclass_1', 'Pclass_3',\n",
    "       'Embarked_C', 'Embarked_Q', 'Embarked_S', 'SibSp_scaled',\n",
    "       'Parch_scaled', 'Fare_categories_0-12', 'Fare_categories_50-100',\n",
    "       'Fare_categories_100+', 'Title_Miss', 'Title_Mr', 'Title_Mrs',\n",
    "       'Title_Officer', 'Title_Royalty', 'Cabin_type_B', 'Cabin_type_C',\n",
    "       'Cabin_type_D', 'Cabin_type_E', 'Cabin_type_F', 'Cabin_type_G',\n",
    "       'Cabin_type_T', 'Cabin_type_Unknown']\n",
    "\n",
    "all_X = train_features[columns]\n",
    "all_y = train[\"Survived\"]\n",
    "lr = LogisticRegression()\n",
    "selector = RFECV(lr,cv=10)\n",
    "selector.fit(all_X,all_y)\n",
    "\n",
    "optimized_columns = all_X.columns[selector.support_]\n",
    "\n"
   ]
  },
  {
   "cell_type": "code",
   "execution_count": 148,
   "metadata": {},
   "outputs": [
    {
     "name": "stdout",
     "output_type": "stream",
     "text": [
      "Index(['SibSp_scaled', 'Title_Mr', 'Title_Officer', 'Cabin_type_Unknown'], dtype='object')\n"
     ]
    }
   ],
   "source": [
    "print(optimized_columns)"
   ]
  },
  {
   "cell_type": "code",
   "execution_count": 149,
   "metadata": {
    "scrolled": true
   },
   "outputs": [
    {
     "name": "stdout",
     "output_type": "stream",
     "text": [
      "0.8226549199863807\n"
     ]
    }
   ],
   "source": [
    "from sklearn.model_selection import cross_val_score\n",
    "\n",
    "all_X = train_features[optimized_columns]\n",
    "all_y = train[\"Survived\"]\n",
    "lr = LogisticRegression()\n",
    "scores = cross_val_score(lr, all_X, all_y, cv=10)\n",
    "accuracy = scores.mean()\n",
    "print(accuracy)"
   ]
  },
  {
   "cell_type": "markdown",
   "metadata": {},
   "source": [
    "## Model Selection and Tuning Using GridSearchCV\n"
   ]
  },
  {
   "cell_type": "code",
   "execution_count": 150,
   "metadata": {
    "scrolled": true
   },
   "outputs": [
    {
     "name": "stdout",
     "output_type": "stream",
     "text": [
      "0.8193215866530472\n"
     ]
    }
   ],
   "source": [
    "from sklearn.ensemble import RandomForestClassifier\n",
    "clf = RandomForestClassifier(random_state=1)\n",
    "scores = cross_val_score(clf, all_X, all_y, cv=10)\n",
    "accuracy_rf = scores.mean()\n",
    "print(accuracy_rf )"
   ]
  },
  {
   "cell_type": "code",
   "execution_count": 151,
   "metadata": {},
   "outputs": [],
   "source": [
    "from sklearn.model_selection import GridSearchCV\n",
    "hyperparameters = {\"criterion\": [\"entropy\", \"gini\"],\n",
    "                   \"max_depth\": [5, 10],\n",
    "                   \"max_features\": [\"log2\", \"sqrt\"],\n",
    "                   \"min_samples_leaf\": [1, 5],\n",
    "                   \"min_samples_split\": [3, 5],\n",
    "                   \"n_estimators\": [6, 9]\n",
    "}\n",
    "\n",
    "clf = RandomForestClassifier(random_state=1)\n",
    "grid = GridSearchCV(clf,param_grid=hyperparameters,cv=10)\n",
    "\n",
    "grid.fit(all_X, all_y)\n",
    "\n",
    "best_params = grid.best_params_\n",
    "best_score = grid.best_score_"
   ]
  },
  {
   "cell_type": "code",
   "execution_count": 152,
   "metadata": {
    "scrolled": true
   },
   "outputs": [
    {
     "name": "stdout",
     "output_type": "stream",
     "text": [
      "{'criterion': 'gini', 'max_depth': 5, 'max_features': 'log2', 'min_samples_leaf': 1, 'min_samples_split': 3, 'n_estimators': 9}\n",
      "0.8181818181818182\n"
     ]
    }
   ],
   "source": [
    "print(best_params)\n",
    "print(best_score)"
   ]
  },
  {
   "cell_type": "markdown",
   "metadata": {},
   "source": [
    "## Submitting our Model to Kaggle"
   ]
  },
  {
   "cell_type": "code",
   "execution_count": 153,
   "metadata": {},
   "outputs": [],
   "source": [
    "lr = LogisticRegression()\n",
    "lr.fit(all_X,all_y)\n",
    "tests_predictions = lr.predict(test_features[optimized_columns])\n",
    "\n",
    "test_ids = test[\"PassengerId\"]\n",
    "submission_df = {\"PassengerId\": test_ids,\n",
    "                 \"Survived\": tests_predictions}\n",
    "submission = pd.DataFrame(submission_df)\n",
    "\n",
    "submission.to_csv(\"Survival_Prediction.csv\",index=False)"
   ]
  }
 ],
 "metadata": {
  "kernelspec": {
   "display_name": "Python 3",
   "language": "python",
   "name": "python3"
  },
  "language_info": {
   "codemirror_mode": {
    "name": "ipython",
    "version": 3
   },
   "file_extension": ".py",
   "mimetype": "text/x-python",
   "name": "python",
   "nbconvert_exporter": "python",
   "pygments_lexer": "ipython3",
   "version": "3.7.3"
  }
 },
 "nbformat": 4,
 "nbformat_minor": 2
}
